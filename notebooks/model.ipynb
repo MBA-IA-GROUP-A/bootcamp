{
 "cells": [
  {
   "attachments": {},
   "cell_type": "markdown",
   "metadata": {},
   "source": [
    "### **Libraries**"
   ]
  },
  {
   "cell_type": "code",
   "execution_count": 319,
   "metadata": {},
   "outputs": [],
   "source": [
    "import pandas as pd\n",
    "import warnings\n",
    "import pickle\n",
    "import numpy as np\n",
    "from sklearn.model_selection import train_test_split\n",
    "import sklearn.metrics as metrics\n",
    "from sklearn.ensemble import VotingRegressor\n",
    "from xgboost import XGBRegressor\n",
    "from sklearn.ensemble import StackingRegressor\n",
    "from sklearn.linear_model import LinearRegression\n",
    "from sklearn.ensemble import RandomForestRegressor\n",
    "from sklearn.tree import DecisionTreeRegressor\n",
    "from sklearn.ensemble import GradientBoostingRegressor\n",
    "from sklearn.ensemble import BaggingRegressor\n",
    "from sklearn.ensemble import AdaBoostRegressor\n",
    "from sklearn.model_selection import cross_val_score"
   ]
  },
  {
   "attachments": {},
   "cell_type": "markdown",
   "metadata": {},
   "source": [
    "### **Settings**"
   ]
  },
  {
   "cell_type": "code",
   "execution_count": 320,
   "metadata": {},
   "outputs": [],
   "source": [
    "pd.set_option('display.max_columns', None)\n",
    "warnings.filterwarnings('ignore')"
   ]
  },
  {
   "attachments": {},
   "cell_type": "markdown",
   "metadata": {},
   "source": [
    "### **Importing data**"
   ]
  },
  {
   "cell_type": "code",
   "execution_count": 321,
   "metadata": {},
   "outputs": [],
   "source": [
    "data = pd.read_csv('../data/base.csv')"
   ]
  },
  {
   "attachments": {},
   "cell_type": "markdown",
   "metadata": {},
   "source": [
    "### **Add clusters to data**"
   ]
  },
  {
   "cell_type": "code",
   "execution_count": 322,
   "metadata": {},
   "outputs": [],
   "source": [
    "def __categorical_to_numeric(d):\n",
    "    d['definicaoRisco'] = d['definicaoRisco'].map(\n",
    "        {'De 11 a 30 % - Baixo': 1, 'De 31 a 50 % - Médio': 2, 'De 0 a 10 % - Muito Baixo': 3, 'De 51 a 80 % - Alto': 4, 'nan': 1})\n",
    "    d['empresa_MeEppMei'] = d['empresa_MeEppMei'].map(\n",
    "        {True: 1, False: 0, 'nan': 0})\n",
    "    d['intervaloFundacao'] = d['intervaloFundacao'].map(\n",
    "        {'Acima de 17 anos': 4, 'De 11 a 16 anos': 3, 'De 6 a 10 anos': 2, 'De 0 a 5 anos': 1, 'nan': 1})\n",
    "\n",
    "    d['empresa_MeEppMei'].fillna(0, inplace=True)\n",
    "    d['intervaloFundacao'].fillna(1, inplace=True)\n",
    "    return d\n",
    "\n",
    "\n",
    "def rm_outliers(d):\n",
    "    features = d.select_dtypes(exclude=[\"object\"]).columns\n",
    "    df1 = d.copy()\n",
    "    d = d[features]\n",
    "    q1 = d.quantile(0.25)\n",
    "    q3 = d.quantile(0.75)\n",
    "\n",
    "    q2 = q3 - q1\n",
    "    lower_bound = q1 - (1.5 * q2)\n",
    "    upper_bound = q3 + (1.5 * q2)\n",
    "\n",
    "    for col in d.columns:\n",
    "        for i in range(0, len(d[col])):\n",
    "            if d[col][i] < lower_bound[col]:\n",
    "                d[col][i] = lower_bound[col]\n",
    "\n",
    "            if d[col][i] > upper_bound[col]:\n",
    "                d[col][i] = upper_bound[col]\n",
    "\n",
    "    for col in d.columns:\n",
    "        df1[col] = d[col]\n",
    "\n",
    "    return (df1)\n",
    "\n",
    "\n",
    "def fill_median(d, col):\n",
    "    d.loc[d[col].isnull(), col] = d[col].median()\n",
    "\n",
    "\n",
    "def do_clustering(d):\n",
    "    newData = d.copy()\n",
    "    newData.drop([\n",
    "        'numero_solicitacao',\n",
    "        'razaoSocial',\n",
    "        'nomeFantasia',\n",
    "        'status',\n",
    "        'restricoes',\n",
    "        'scorePontualidade',\n",
    "        'dataAprovadoNivelAnalista',\n",
    "        'limiteEmpresaAnaliseCredito',\n",
    "        'valorAprovado',\n",
    "        'anoFundacao',\n",
    "        'custos',\n",
    "        'periodoDemonstrativoEmMeses',\n",
    "        'dataAprovadoEmComite',\n",
    "        'dashboardCorrelacao',\n",
    "        'diferencaPercentualRisco',\n",
    "        'percentualRisco',\n",
    "        'periodoBalanco',\n",
    "        'duplicatasAReceber',\n",
    "        'primeiraCompra',\n",
    "        'percentualProtestos',\n",
    "        'prazoMedioRecebimentoVendas',\n",
    "        'cnpjSemTraco'\n",
    "    ], axis=1, inplace=True)\n",
    "    newData = __categorical_to_numeric(newData)\n",
    "    newData = rm_outliers(newData)\n",
    "    for col in newData.columns:\n",
    "        if newData[col].isnull().sum() > 0:\n",
    "            fill_median(newData, col)\n",
    "\n",
    "    clustering = pickle.load(open('../models/cluster.sav', 'rb'))\n",
    "    return clustering.predict(newData)"
   ]
  },
  {
   "cell_type": "code",
   "execution_count": 323,
   "metadata": {},
   "outputs": [],
   "source": [
    "data['cluster'] = do_clustering(data)"
   ]
  },
  {
   "attachments": {},
   "cell_type": "markdown",
   "metadata": {},
   "source": [
    "### **Prepare Data**"
   ]
  },
  {
   "cell_type": "code",
   "execution_count": 324,
   "metadata": {},
   "outputs": [
    {
     "data": {
      "text/html": [
       "<div>\n",
       "<style scoped>\n",
       "    .dataframe tbody tr th:only-of-type {\n",
       "        vertical-align: middle;\n",
       "    }\n",
       "\n",
       "    .dataframe tbody tr th {\n",
       "        vertical-align: top;\n",
       "    }\n",
       "\n",
       "    .dataframe thead th {\n",
       "        text-align: right;\n",
       "    }\n",
       "</style>\n",
       "<table border=\"1\" class=\"dataframe\">\n",
       "  <thead>\n",
       "    <tr style=\"text-align: right;\">\n",
       "      <th></th>\n",
       "      <th>numero_solicitacao</th>\n",
       "      <th>maiorAtraso</th>\n",
       "      <th>margemBrutaAcumulada</th>\n",
       "      <th>percentualProtestos</th>\n",
       "      <th>prazoMedioRecebimentoVendas</th>\n",
       "      <th>titulosEmAberto</th>\n",
       "      <th>valorSolicitado</th>\n",
       "      <th>diferencaPercentualRisco</th>\n",
       "      <th>percentualRisco</th>\n",
       "      <th>dashboardCorrelacao</th>\n",
       "      <th>valorAprovado</th>\n",
       "      <th>ativoCirculante</th>\n",
       "      <th>passivoCirculante</th>\n",
       "      <th>totalAtivo</th>\n",
       "      <th>totalPatrimonioLiquido</th>\n",
       "      <th>endividamento</th>\n",
       "      <th>duplicatasAReceber</th>\n",
       "      <th>estoque</th>\n",
       "      <th>faturamentoBruto</th>\n",
       "      <th>margemBruta</th>\n",
       "      <th>periodoDemonstrativoEmMeses</th>\n",
       "      <th>custos</th>\n",
       "      <th>anoFundacao</th>\n",
       "      <th>capitalSocial</th>\n",
       "      <th>scorePontualidade</th>\n",
       "      <th>limiteEmpresaAnaliseCredito</th>\n",
       "      <th>cluster</th>\n",
       "    </tr>\n",
       "  </thead>\n",
       "  <tbody>\n",
       "    <tr>\n",
       "      <th>count</th>\n",
       "      <td>8973.000000</td>\n",
       "      <td>8973.000000</td>\n",
       "      <td>8973.000000</td>\n",
       "      <td>7475.000000</td>\n",
       "      <td>8973.000000</td>\n",
       "      <td>8.973000e+03</td>\n",
       "      <td>8.973000e+03</td>\n",
       "      <td>8973.000000</td>\n",
       "      <td>8973.000000</td>\n",
       "      <td>8973.000000</td>\n",
       "      <td>7.569000e+03</td>\n",
       "      <td>4.733000e+03</td>\n",
       "      <td>4.733000e+03</td>\n",
       "      <td>4.733000e+03</td>\n",
       "      <td>4.733000e+03</td>\n",
       "      <td>4.733000e+03</td>\n",
       "      <td>4.733000e+03</td>\n",
       "      <td>4.733000e+03</td>\n",
       "      <td>8.223000e+03</td>\n",
       "      <td>8.223000e+03</td>\n",
       "      <td>8223.000000</td>\n",
       "      <td>8.223000e+03</td>\n",
       "      <td>8228.000000</td>\n",
       "      <td>8.228000e+03</td>\n",
       "      <td>8973.000000</td>\n",
       "      <td>8.228000e+03</td>\n",
       "      <td>8973.000000</td>\n",
       "    </tr>\n",
       "    <tr>\n",
       "      <th>mean</th>\n",
       "      <td>4550.042015</td>\n",
       "      <td>24.642594</td>\n",
       "      <td>0.362176</td>\n",
       "      <td>0.019260</td>\n",
       "      <td>23.083027</td>\n",
       "      <td>6.487101e+04</td>\n",
       "      <td>7.492436e+05</td>\n",
       "      <td>0.750321</td>\n",
       "      <td>0.249679</td>\n",
       "      <td>0.047236</td>\n",
       "      <td>1.897926e+05</td>\n",
       "      <td>4.451028e+07</td>\n",
       "      <td>3.396815e+07</td>\n",
       "      <td>7.073623e+07</td>\n",
       "      <td>2.831172e+07</td>\n",
       "      <td>4.687958e+06</td>\n",
       "      <td>1.663397e+07</td>\n",
       "      <td>1.523956e+07</td>\n",
       "      <td>5.597420e+07</td>\n",
       "      <td>1.620988e+07</td>\n",
       "      <td>10.377356</td>\n",
       "      <td>2.839061e+07</td>\n",
       "      <td>2006.027467</td>\n",
       "      <td>1.121453e+07</td>\n",
       "      <td>0.798346</td>\n",
       "      <td>2.851017e+06</td>\n",
       "      <td>0.517107</td>\n",
       "    </tr>\n",
       "    <tr>\n",
       "      <th>std</th>\n",
       "      <td>2603.485853</td>\n",
       "      <td>66.180793</td>\n",
       "      <td>0.201455</td>\n",
       "      <td>0.593579</td>\n",
       "      <td>68.177649</td>\n",
       "      <td>2.482852e+05</td>\n",
       "      <td>2.261875e+07</td>\n",
       "      <td>0.146058</td>\n",
       "      <td>0.146058</td>\n",
       "      <td>0.472476</td>\n",
       "      <td>5.435186e+05</td>\n",
       "      <td>4.674534e+08</td>\n",
       "      <td>4.946074e+08</td>\n",
       "      <td>8.878891e+08</td>\n",
       "      <td>2.576755e+08</td>\n",
       "      <td>3.773716e+07</td>\n",
       "      <td>2.979029e+08</td>\n",
       "      <td>8.383792e+07</td>\n",
       "      <td>3.344357e+08</td>\n",
       "      <td>1.163482e+08</td>\n",
       "      <td>3.220965</td>\n",
       "      <td>2.072148e+08</td>\n",
       "      <td>19.424120</td>\n",
       "      <td>9.742853e+07</td>\n",
       "      <td>0.379186</td>\n",
       "      <td>2.672324e+07</td>\n",
       "      <td>0.986570</td>\n",
       "    </tr>\n",
       "    <tr>\n",
       "      <th>min</th>\n",
       "      <td>1.000000</td>\n",
       "      <td>0.000000</td>\n",
       "      <td>0.000000</td>\n",
       "      <td>0.000000</td>\n",
       "      <td>0.000000</td>\n",
       "      <td>0.000000e+00</td>\n",
       "      <td>1.000000e+02</td>\n",
       "      <td>0.207547</td>\n",
       "      <td>0.000000</td>\n",
       "      <td>-0.999990</td>\n",
       "      <td>0.000000e+00</td>\n",
       "      <td>-1.700000e+01</td>\n",
       "      <td>-1.134941e+06</td>\n",
       "      <td>-1.700000e+01</td>\n",
       "      <td>-1.867197e+08</td>\n",
       "      <td>0.000000e+00</td>\n",
       "      <td>-2.278071e+07</td>\n",
       "      <td>-2.632260e+05</td>\n",
       "      <td>0.000000e+00</td>\n",
       "      <td>-6.148721e+08</td>\n",
       "      <td>1.000000</td>\n",
       "      <td>-3.466338e+08</td>\n",
       "      <td>1000.000000</td>\n",
       "      <td>0.000000e+00</td>\n",
       "      <td>0.000000</td>\n",
       "      <td>0.000000e+00</td>\n",
       "      <td>0.000000</td>\n",
       "    </tr>\n",
       "    <tr>\n",
       "      <th>25%</th>\n",
       "      <td>2316.000000</td>\n",
       "      <td>3.000000</td>\n",
       "      <td>0.281395</td>\n",
       "      <td>0.000000</td>\n",
       "      <td>0.000000</td>\n",
       "      <td>0.000000e+00</td>\n",
       "      <td>2.500000e+04</td>\n",
       "      <td>0.642857</td>\n",
       "      <td>0.142857</td>\n",
       "      <td>0.000000</td>\n",
       "      <td>1.510000e+04</td>\n",
       "      <td>8.875850e+05</td>\n",
       "      <td>1.829700e+05</td>\n",
       "      <td>1.049740e+06</td>\n",
       "      <td>2.328920e+05</td>\n",
       "      <td>0.000000e+00</td>\n",
       "      <td>3.920500e+04</td>\n",
       "      <td>1.712860e+05</td>\n",
       "      <td>1.191995e+06</td>\n",
       "      <td>0.000000e+00</td>\n",
       "      <td>11.000000</td>\n",
       "      <td>0.000000e+00</td>\n",
       "      <td>2000.000000</td>\n",
       "      <td>5.000000e+04</td>\n",
       "      <td>0.887479</td>\n",
       "      <td>7.360000e+03</td>\n",
       "      <td>0.000000</td>\n",
       "    </tr>\n",
       "    <tr>\n",
       "      <th>50%</th>\n",
       "      <td>4559.000000</td>\n",
       "      <td>6.000000</td>\n",
       "      <td>0.402895</td>\n",
       "      <td>0.000000</td>\n",
       "      <td>0.000000</td>\n",
       "      <td>0.000000e+00</td>\n",
       "      <td>5.000000e+04</td>\n",
       "      <td>0.750000</td>\n",
       "      <td>0.250000</td>\n",
       "      <td>0.000000</td>\n",
       "      <td>3.500000e+04</td>\n",
       "      <td>3.996630e+06</td>\n",
       "      <td>1.335189e+06</td>\n",
       "      <td>4.637565e+06</td>\n",
       "      <td>1.569857e+06</td>\n",
       "      <td>0.000000e+00</td>\n",
       "      <td>1.088164e+06</td>\n",
       "      <td>1.063783e+06</td>\n",
       "      <td>3.599483e+06</td>\n",
       "      <td>0.000000e+00</td>\n",
       "      <td>12.000000</td>\n",
       "      <td>0.000000e+00</td>\n",
       "      <td>2009.000000</td>\n",
       "      <td>1.000000e+05</td>\n",
       "      <td>1.000000</td>\n",
       "      <td>4.860000e+04</td>\n",
       "      <td>0.000000</td>\n",
       "    </tr>\n",
       "    <tr>\n",
       "      <th>75%</th>\n",
       "      <td>6802.000000</td>\n",
       "      <td>22.000000</td>\n",
       "      <td>0.507860</td>\n",
       "      <td>0.000000</td>\n",
       "      <td>30.000000</td>\n",
       "      <td>1.725000e+04</td>\n",
       "      <td>1.200000e+05</td>\n",
       "      <td>0.857143</td>\n",
       "      <td>0.357143</td>\n",
       "      <td>0.000000</td>\n",
       "      <td>1.000000e+05</td>\n",
       "      <td>1.635117e+07</td>\n",
       "      <td>7.449366e+06</td>\n",
       "      <td>1.916744e+07</td>\n",
       "      <td>8.036921e+06</td>\n",
       "      <td>7.416500e+05</td>\n",
       "      <td>6.576243e+06</td>\n",
       "      <td>5.493839e+06</td>\n",
       "      <td>1.584222e+07</td>\n",
       "      <td>3.357474e+06</td>\n",
       "      <td>12.000000</td>\n",
       "      <td>4.520907e+06</td>\n",
       "      <td>2015.000000</td>\n",
       "      <td>5.000000e+05</td>\n",
       "      <td>1.000000</td>\n",
       "      <td>3.450000e+05</td>\n",
       "      <td>0.000000</td>\n",
       "    </tr>\n",
       "    <tr>\n",
       "      <th>max</th>\n",
       "      <td>9045.000000</td>\n",
       "      <td>1265.000000</td>\n",
       "      <td>1.000000</td>\n",
       "      <td>36.983728</td>\n",
       "      <td>1605.000000</td>\n",
       "      <td>3.938590e+06</td>\n",
       "      <td>1.500000e+09</td>\n",
       "      <td>1.000000</td>\n",
       "      <td>0.792453</td>\n",
       "      <td>0.999990</td>\n",
       "      <td>1.070000e+07</td>\n",
       "      <td>2.903832e+10</td>\n",
       "      <td>2.750382e+10</td>\n",
       "      <td>5.482350e+10</td>\n",
       "      <td>1.292328e+10</td>\n",
       "      <td>7.406315e+08</td>\n",
       "      <td>2.009358e+10</td>\n",
       "      <td>1.293428e+09</td>\n",
       "      <td>6.426115e+09</td>\n",
       "      <td>3.366843e+09</td>\n",
       "      <td>12.000000</td>\n",
       "      <td>4.393536e+09</td>\n",
       "      <td>2020.000000</td>\n",
       "      <td>4.100000e+09</td>\n",
       "      <td>1.000000</td>\n",
       "      <td>1.974261e+09</td>\n",
       "      <td>3.000000</td>\n",
       "    </tr>\n",
       "  </tbody>\n",
       "</table>\n",
       "</div>"
      ],
      "text/plain": [
       "       numero_solicitacao  maiorAtraso  margemBrutaAcumulada  \\\n",
       "count         8973.000000  8973.000000           8973.000000   \n",
       "mean          4550.042015    24.642594              0.362176   \n",
       "std           2603.485853    66.180793              0.201455   \n",
       "min              1.000000     0.000000              0.000000   \n",
       "25%           2316.000000     3.000000              0.281395   \n",
       "50%           4559.000000     6.000000              0.402895   \n",
       "75%           6802.000000    22.000000              0.507860   \n",
       "max           9045.000000  1265.000000              1.000000   \n",
       "\n",
       "       percentualProtestos  prazoMedioRecebimentoVendas  titulosEmAberto  \\\n",
       "count          7475.000000                  8973.000000     8.973000e+03   \n",
       "mean              0.019260                    23.083027     6.487101e+04   \n",
       "std               0.593579                    68.177649     2.482852e+05   \n",
       "min               0.000000                     0.000000     0.000000e+00   \n",
       "25%               0.000000                     0.000000     0.000000e+00   \n",
       "50%               0.000000                     0.000000     0.000000e+00   \n",
       "75%               0.000000                    30.000000     1.725000e+04   \n",
       "max              36.983728                  1605.000000     3.938590e+06   \n",
       "\n",
       "       valorSolicitado  diferencaPercentualRisco  percentualRisco  \\\n",
       "count     8.973000e+03               8973.000000      8973.000000   \n",
       "mean      7.492436e+05                  0.750321         0.249679   \n",
       "std       2.261875e+07                  0.146058         0.146058   \n",
       "min       1.000000e+02                  0.207547         0.000000   \n",
       "25%       2.500000e+04                  0.642857         0.142857   \n",
       "50%       5.000000e+04                  0.750000         0.250000   \n",
       "75%       1.200000e+05                  0.857143         0.357143   \n",
       "max       1.500000e+09                  1.000000         0.792453   \n",
       "\n",
       "       dashboardCorrelacao  valorAprovado  ativoCirculante  passivoCirculante  \\\n",
       "count          8973.000000   7.569000e+03     4.733000e+03       4.733000e+03   \n",
       "mean              0.047236   1.897926e+05     4.451028e+07       3.396815e+07   \n",
       "std               0.472476   5.435186e+05     4.674534e+08       4.946074e+08   \n",
       "min              -0.999990   0.000000e+00    -1.700000e+01      -1.134941e+06   \n",
       "25%               0.000000   1.510000e+04     8.875850e+05       1.829700e+05   \n",
       "50%               0.000000   3.500000e+04     3.996630e+06       1.335189e+06   \n",
       "75%               0.000000   1.000000e+05     1.635117e+07       7.449366e+06   \n",
       "max               0.999990   1.070000e+07     2.903832e+10       2.750382e+10   \n",
       "\n",
       "         totalAtivo  totalPatrimonioLiquido  endividamento  \\\n",
       "count  4.733000e+03            4.733000e+03   4.733000e+03   \n",
       "mean   7.073623e+07            2.831172e+07   4.687958e+06   \n",
       "std    8.878891e+08            2.576755e+08   3.773716e+07   \n",
       "min   -1.700000e+01           -1.867197e+08   0.000000e+00   \n",
       "25%    1.049740e+06            2.328920e+05   0.000000e+00   \n",
       "50%    4.637565e+06            1.569857e+06   0.000000e+00   \n",
       "75%    1.916744e+07            8.036921e+06   7.416500e+05   \n",
       "max    5.482350e+10            1.292328e+10   7.406315e+08   \n",
       "\n",
       "       duplicatasAReceber       estoque  faturamentoBruto   margemBruta  \\\n",
       "count        4.733000e+03  4.733000e+03      8.223000e+03  8.223000e+03   \n",
       "mean         1.663397e+07  1.523956e+07      5.597420e+07  1.620988e+07   \n",
       "std          2.979029e+08  8.383792e+07      3.344357e+08  1.163482e+08   \n",
       "min         -2.278071e+07 -2.632260e+05      0.000000e+00 -6.148721e+08   \n",
       "25%          3.920500e+04  1.712860e+05      1.191995e+06  0.000000e+00   \n",
       "50%          1.088164e+06  1.063783e+06      3.599483e+06  0.000000e+00   \n",
       "75%          6.576243e+06  5.493839e+06      1.584222e+07  3.357474e+06   \n",
       "max          2.009358e+10  1.293428e+09      6.426115e+09  3.366843e+09   \n",
       "\n",
       "       periodoDemonstrativoEmMeses        custos  anoFundacao  capitalSocial  \\\n",
       "count                  8223.000000  8.223000e+03  8228.000000   8.228000e+03   \n",
       "mean                     10.377356  2.839061e+07  2006.027467   1.121453e+07   \n",
       "std                       3.220965  2.072148e+08    19.424120   9.742853e+07   \n",
       "min                       1.000000 -3.466338e+08  1000.000000   0.000000e+00   \n",
       "25%                      11.000000  0.000000e+00  2000.000000   5.000000e+04   \n",
       "50%                      12.000000  0.000000e+00  2009.000000   1.000000e+05   \n",
       "75%                      12.000000  4.520907e+06  2015.000000   5.000000e+05   \n",
       "max                      12.000000  4.393536e+09  2020.000000   4.100000e+09   \n",
       "\n",
       "       scorePontualidade  limiteEmpresaAnaliseCredito      cluster  \n",
       "count        8973.000000                 8.228000e+03  8973.000000  \n",
       "mean            0.798346                 2.851017e+06     0.517107  \n",
       "std             0.379186                 2.672324e+07     0.986570  \n",
       "min             0.000000                 0.000000e+00     0.000000  \n",
       "25%             0.887479                 7.360000e+03     0.000000  \n",
       "50%             1.000000                 4.860000e+04     0.000000  \n",
       "75%             1.000000                 3.450000e+05     0.000000  \n",
       "max             1.000000                 1.974261e+09     3.000000  "
      ]
     },
     "execution_count": 324,
     "metadata": {},
     "output_type": "execute_result"
    }
   ],
   "source": [
    "data.describe()"
   ]
  },
  {
   "cell_type": "code",
   "execution_count": 325,
   "metadata": {},
   "outputs": [
    {
     "data": {
      "text/html": [
       "<div>\n",
       "<style scoped>\n",
       "    .dataframe tbody tr th:only-of-type {\n",
       "        vertical-align: middle;\n",
       "    }\n",
       "\n",
       "    .dataframe tbody tr th {\n",
       "        vertical-align: top;\n",
       "    }\n",
       "\n",
       "    .dataframe thead th {\n",
       "        text-align: right;\n",
       "    }\n",
       "</style>\n",
       "<table border=\"1\" class=\"dataframe\">\n",
       "  <thead>\n",
       "    <tr style=\"text-align: right;\">\n",
       "      <th></th>\n",
       "      <th>numero_solicitacao</th>\n",
       "      <th>razaoSocial</th>\n",
       "      <th>nomeFantasia</th>\n",
       "      <th>cnpjSemTraco</th>\n",
       "      <th>maiorAtraso</th>\n",
       "      <th>margemBrutaAcumulada</th>\n",
       "      <th>percentualProtestos</th>\n",
       "      <th>primeiraCompra</th>\n",
       "      <th>prazoMedioRecebimentoVendas</th>\n",
       "      <th>titulosEmAberto</th>\n",
       "      <th>valorSolicitado</th>\n",
       "      <th>status</th>\n",
       "      <th>definicaoRisco</th>\n",
       "      <th>diferencaPercentualRisco</th>\n",
       "      <th>percentualRisco</th>\n",
       "      <th>dashboardCorrelacao</th>\n",
       "      <th>valorAprovado</th>\n",
       "      <th>dataAprovadoEmComite</th>\n",
       "      <th>periodoBalanco</th>\n",
       "      <th>ativoCirculante</th>\n",
       "      <th>passivoCirculante</th>\n",
       "      <th>totalAtivo</th>\n",
       "      <th>totalPatrimonioLiquido</th>\n",
       "      <th>endividamento</th>\n",
       "      <th>duplicatasAReceber</th>\n",
       "      <th>estoque</th>\n",
       "      <th>faturamentoBruto</th>\n",
       "      <th>margemBruta</th>\n",
       "      <th>periodoDemonstrativoEmMeses</th>\n",
       "      <th>custos</th>\n",
       "      <th>anoFundacao</th>\n",
       "      <th>intervaloFundacao</th>\n",
       "      <th>capitalSocial</th>\n",
       "      <th>restricoes</th>\n",
       "      <th>empresa_MeEppMei</th>\n",
       "      <th>scorePontualidade</th>\n",
       "      <th>limiteEmpresaAnaliseCredito</th>\n",
       "      <th>dataAprovadoNivelAnalista</th>\n",
       "      <th>cluster</th>\n",
       "    </tr>\n",
       "  </thead>\n",
       "  <tbody>\n",
       "    <tr>\n",
       "      <th>0</th>\n",
       "      <td>1</td>\n",
       "      <td>James Richardson-Patel</td>\n",
       "      <td>Alexandra Williams</td>\n",
       "      <td>KEBE17609492220843</td>\n",
       "      <td>0</td>\n",
       "      <td>0.252448</td>\n",
       "      <td>0.0</td>\n",
       "      <td>2015-12-10T00:00:00</td>\n",
       "      <td>0</td>\n",
       "      <td>0.00</td>\n",
       "      <td>50000.0</td>\n",
       "      <td>AprovadoAnalista</td>\n",
       "      <td>De 11 a 30 % - Baixo</td>\n",
       "      <td>0.716981</td>\n",
       "      <td>0.283019</td>\n",
       "      <td>0.000000</td>\n",
       "      <td>50000.0</td>\n",
       "      <td>NaN</td>\n",
       "      <td>NaN</td>\n",
       "      <td>NaN</td>\n",
       "      <td>NaN</td>\n",
       "      <td>NaN</td>\n",
       "      <td>NaN</td>\n",
       "      <td>NaN</td>\n",
       "      <td>NaN</td>\n",
       "      <td>NaN</td>\n",
       "      <td>1766880.0</td>\n",
       "      <td>0.0</td>\n",
       "      <td>12.0</td>\n",
       "      <td>0.0</td>\n",
       "      <td>2003.0</td>\n",
       "      <td>Acima de 17 anos</td>\n",
       "      <td>90000.0</td>\n",
       "      <td>False</td>\n",
       "      <td>True</td>\n",
       "      <td>1.0</td>\n",
       "      <td>43200.0</td>\n",
       "      <td>2020-02-03T20:57:33</td>\n",
       "      <td>0</td>\n",
       "    </tr>\n",
       "    <tr>\n",
       "      <th>1</th>\n",
       "      <td>2</td>\n",
       "      <td>Dr. Geoffrey Walsh</td>\n",
       "      <td>Mr. Darren Arnold</td>\n",
       "      <td>JRBK88908250677300</td>\n",
       "      <td>0</td>\n",
       "      <td>0.000000</td>\n",
       "      <td>NaN</td>\n",
       "      <td>2019-06-12T17:28:31</td>\n",
       "      <td>0</td>\n",
       "      <td>0.00</td>\n",
       "      <td>10000.0</td>\n",
       "      <td>DocumentacaoReprovada</td>\n",
       "      <td>De 0 a 10 % - Muito Baixo</td>\n",
       "      <td>1.000000</td>\n",
       "      <td>0.000000</td>\n",
       "      <td>0.000000</td>\n",
       "      <td>NaN</td>\n",
       "      <td>NaN</td>\n",
       "      <td>NaN</td>\n",
       "      <td>NaN</td>\n",
       "      <td>NaN</td>\n",
       "      <td>NaN</td>\n",
       "      <td>NaN</td>\n",
       "      <td>NaN</td>\n",
       "      <td>NaN</td>\n",
       "      <td>NaN</td>\n",
       "      <td>NaN</td>\n",
       "      <td>NaN</td>\n",
       "      <td>NaN</td>\n",
       "      <td>NaN</td>\n",
       "      <td>NaN</td>\n",
       "      <td>NaN</td>\n",
       "      <td>NaN</td>\n",
       "      <td>NaN</td>\n",
       "      <td>NaN</td>\n",
       "      <td>0.0</td>\n",
       "      <td>NaN</td>\n",
       "      <td>NaN</td>\n",
       "      <td>0</td>\n",
       "    </tr>\n",
       "    <tr>\n",
       "      <th>2</th>\n",
       "      <td>3</td>\n",
       "      <td>Joanna Hudson</td>\n",
       "      <td>Dr. David Rees</td>\n",
       "      <td>GCVQ28531614261293</td>\n",
       "      <td>4</td>\n",
       "      <td>0.624777</td>\n",
       "      <td>0.0</td>\n",
       "      <td>2019-11-27T00:00:00</td>\n",
       "      <td>0</td>\n",
       "      <td>0.00</td>\n",
       "      <td>20000.0</td>\n",
       "      <td>AprovadoAnalista</td>\n",
       "      <td>De 11 a 30 % - Baixo</td>\n",
       "      <td>0.716981</td>\n",
       "      <td>0.283019</td>\n",
       "      <td>0.000000</td>\n",
       "      <td>20000.0</td>\n",
       "      <td>NaN</td>\n",
       "      <td>NaN</td>\n",
       "      <td>NaN</td>\n",
       "      <td>NaN</td>\n",
       "      <td>NaN</td>\n",
       "      <td>NaN</td>\n",
       "      <td>NaN</td>\n",
       "      <td>NaN</td>\n",
       "      <td>NaN</td>\n",
       "      <td>2814940.0</td>\n",
       "      <td>0.0</td>\n",
       "      <td>7.0</td>\n",
       "      <td>0.0</td>\n",
       "      <td>2014.0</td>\n",
       "      <td>De 6 a 10 anos</td>\n",
       "      <td>20000.0</td>\n",
       "      <td>False</td>\n",
       "      <td>True</td>\n",
       "      <td>1.0</td>\n",
       "      <td>4320.0</td>\n",
       "      <td>2020-02-04T16:40:49</td>\n",
       "      <td>0</td>\n",
       "    </tr>\n",
       "    <tr>\n",
       "      <th>3</th>\n",
       "      <td>4</td>\n",
       "      <td>Gordon Jones-Hopkins</td>\n",
       "      <td>Sara Reid-Robson</td>\n",
       "      <td>KJND32266018316396</td>\n",
       "      <td>20</td>\n",
       "      <td>0.000000</td>\n",
       "      <td>NaN</td>\n",
       "      <td>2017-02-13T17:20:27</td>\n",
       "      <td>0</td>\n",
       "      <td>0.00</td>\n",
       "      <td>25000.0</td>\n",
       "      <td>AprovadoAnalista</td>\n",
       "      <td>De 51 a 80 % - Alto</td>\n",
       "      <td>0.396226</td>\n",
       "      <td>0.603774</td>\n",
       "      <td>0.485811</td>\n",
       "      <td>15000.0</td>\n",
       "      <td>NaN</td>\n",
       "      <td>NaN</td>\n",
       "      <td>NaN</td>\n",
       "      <td>NaN</td>\n",
       "      <td>NaN</td>\n",
       "      <td>NaN</td>\n",
       "      <td>NaN</td>\n",
       "      <td>NaN</td>\n",
       "      <td>NaN</td>\n",
       "      <td>1285274.0</td>\n",
       "      <td>0.0</td>\n",
       "      <td>12.0</td>\n",
       "      <td>0.0</td>\n",
       "      <td>2013.0</td>\n",
       "      <td>De 6 a 10 anos</td>\n",
       "      <td>30000.0</td>\n",
       "      <td>False</td>\n",
       "      <td>True</td>\n",
       "      <td>0.0</td>\n",
       "      <td>5920.0</td>\n",
       "      <td>2020-02-04T16:37:52</td>\n",
       "      <td>0</td>\n",
       "    </tr>\n",
       "    <tr>\n",
       "      <th>4</th>\n",
       "      <td>5</td>\n",
       "      <td>Nigel Lee</td>\n",
       "      <td>Dr. Stanley Duncan</td>\n",
       "      <td>CGQN15826802440348</td>\n",
       "      <td>20</td>\n",
       "      <td>0.454088</td>\n",
       "      <td>0.0</td>\n",
       "      <td>2010-07-13T00:00:00</td>\n",
       "      <td>20</td>\n",
       "      <td>1486.95</td>\n",
       "      <td>50000.0</td>\n",
       "      <td>AprovadoAnalista</td>\n",
       "      <td>De 11 a 30 % - Baixo</td>\n",
       "      <td>0.830189</td>\n",
       "      <td>0.169811</td>\n",
       "      <td>0.000000</td>\n",
       "      <td>50000.0</td>\n",
       "      <td>NaN</td>\n",
       "      <td>2019-09-30T00:00:00</td>\n",
       "      <td>14758917.0</td>\n",
       "      <td>12149031.0</td>\n",
       "      <td>25793410.0</td>\n",
       "      <td>14544378.0</td>\n",
       "      <td>3039112.0</td>\n",
       "      <td>11797928.0</td>\n",
       "      <td>3047791.0</td>\n",
       "      <td>40779757.0</td>\n",
       "      <td>81459809.0</td>\n",
       "      <td>9.0</td>\n",
       "      <td>40680051.0</td>\n",
       "      <td>2002.0</td>\n",
       "      <td>Acima de 17 anos</td>\n",
       "      <td>75000.0</td>\n",
       "      <td>False</td>\n",
       "      <td>False</td>\n",
       "      <td>1.0</td>\n",
       "      <td>89000.0</td>\n",
       "      <td>2020-02-04T15:06:28</td>\n",
       "      <td>1</td>\n",
       "    </tr>\n",
       "  </tbody>\n",
       "</table>\n",
       "</div>"
      ],
      "text/plain": [
       "   numero_solicitacao             razaoSocial        nomeFantasia  \\\n",
       "0                   1  James Richardson-Patel  Alexandra Williams   \n",
       "1                   2      Dr. Geoffrey Walsh   Mr. Darren Arnold   \n",
       "2                   3           Joanna Hudson      Dr. David Rees   \n",
       "3                   4    Gordon Jones-Hopkins    Sara Reid-Robson   \n",
       "4                   5               Nigel Lee  Dr. Stanley Duncan   \n",
       "\n",
       "         cnpjSemTraco  maiorAtraso  margemBrutaAcumulada  percentualProtestos  \\\n",
       "0  KEBE17609492220843            0              0.252448                  0.0   \n",
       "1  JRBK88908250677300            0              0.000000                  NaN   \n",
       "2  GCVQ28531614261293            4              0.624777                  0.0   \n",
       "3  KJND32266018316396           20              0.000000                  NaN   \n",
       "4  CGQN15826802440348           20              0.454088                  0.0   \n",
       "\n",
       "        primeiraCompra  prazoMedioRecebimentoVendas  titulosEmAberto  \\\n",
       "0  2015-12-10T00:00:00                            0             0.00   \n",
       "1  2019-06-12T17:28:31                            0             0.00   \n",
       "2  2019-11-27T00:00:00                            0             0.00   \n",
       "3  2017-02-13T17:20:27                            0             0.00   \n",
       "4  2010-07-13T00:00:00                           20          1486.95   \n",
       "\n",
       "   valorSolicitado                 status             definicaoRisco  \\\n",
       "0          50000.0       AprovadoAnalista       De 11 a 30 % - Baixo   \n",
       "1          10000.0  DocumentacaoReprovada  De 0 a 10 % - Muito Baixo   \n",
       "2          20000.0       AprovadoAnalista       De 11 a 30 % - Baixo   \n",
       "3          25000.0       AprovadoAnalista        De 51 a 80 % - Alto   \n",
       "4          50000.0       AprovadoAnalista       De 11 a 30 % - Baixo   \n",
       "\n",
       "   diferencaPercentualRisco  percentualRisco  dashboardCorrelacao  \\\n",
       "0                  0.716981         0.283019             0.000000   \n",
       "1                  1.000000         0.000000             0.000000   \n",
       "2                  0.716981         0.283019             0.000000   \n",
       "3                  0.396226         0.603774             0.485811   \n",
       "4                  0.830189         0.169811             0.000000   \n",
       "\n",
       "   valorAprovado dataAprovadoEmComite       periodoBalanco  ativoCirculante  \\\n",
       "0        50000.0                  NaN                  NaN              NaN   \n",
       "1            NaN                  NaN                  NaN              NaN   \n",
       "2        20000.0                  NaN                  NaN              NaN   \n",
       "3        15000.0                  NaN                  NaN              NaN   \n",
       "4        50000.0                  NaN  2019-09-30T00:00:00       14758917.0   \n",
       "\n",
       "   passivoCirculante  totalAtivo  totalPatrimonioLiquido  endividamento  \\\n",
       "0                NaN         NaN                     NaN            NaN   \n",
       "1                NaN         NaN                     NaN            NaN   \n",
       "2                NaN         NaN                     NaN            NaN   \n",
       "3                NaN         NaN                     NaN            NaN   \n",
       "4         12149031.0  25793410.0              14544378.0      3039112.0   \n",
       "\n",
       "   duplicatasAReceber    estoque  faturamentoBruto  margemBruta  \\\n",
       "0                 NaN        NaN         1766880.0          0.0   \n",
       "1                 NaN        NaN               NaN          NaN   \n",
       "2                 NaN        NaN         2814940.0          0.0   \n",
       "3                 NaN        NaN         1285274.0          0.0   \n",
       "4          11797928.0  3047791.0        40779757.0   81459809.0   \n",
       "\n",
       "   periodoDemonstrativoEmMeses      custos  anoFundacao intervaloFundacao  \\\n",
       "0                         12.0         0.0       2003.0  Acima de 17 anos   \n",
       "1                          NaN         NaN          NaN               NaN   \n",
       "2                          7.0         0.0       2014.0    De 6 a 10 anos   \n",
       "3                         12.0         0.0       2013.0    De 6 a 10 anos   \n",
       "4                          9.0  40680051.0       2002.0  Acima de 17 anos   \n",
       "\n",
       "   capitalSocial restricoes empresa_MeEppMei  scorePontualidade  \\\n",
       "0        90000.0      False             True                1.0   \n",
       "1            NaN        NaN              NaN                0.0   \n",
       "2        20000.0      False             True                1.0   \n",
       "3        30000.0      False             True                0.0   \n",
       "4        75000.0      False            False                1.0   \n",
       "\n",
       "   limiteEmpresaAnaliseCredito dataAprovadoNivelAnalista  cluster  \n",
       "0                      43200.0       2020-02-03T20:57:33        0  \n",
       "1                          NaN                       NaN        0  \n",
       "2                       4320.0       2020-02-04T16:40:49        0  \n",
       "3                       5920.0       2020-02-04T16:37:52        0  \n",
       "4                      89000.0       2020-02-04T15:06:28        1  "
      ]
     },
     "execution_count": 325,
     "metadata": {},
     "output_type": "execute_result"
    }
   ],
   "source": [
    "data.head()"
   ]
  },
  {
   "cell_type": "code",
   "execution_count": 326,
   "metadata": {},
   "outputs": [
    {
     "data": {
      "text/plain": [
       "numero_solicitacao                0\n",
       "razaoSocial                       0\n",
       "nomeFantasia                      0\n",
       "cnpjSemTraco                      0\n",
       "maiorAtraso                       0\n",
       "margemBrutaAcumulada              0\n",
       "percentualProtestos            1498\n",
       "primeiraCompra                  106\n",
       "prazoMedioRecebimentoVendas       0\n",
       "titulosEmAberto                   0\n",
       "valorSolicitado                   0\n",
       "status                            0\n",
       "definicaoRisco                    0\n",
       "diferencaPercentualRisco          0\n",
       "percentualRisco                   0\n",
       "dashboardCorrelacao               0\n",
       "valorAprovado                  1404\n",
       "dataAprovadoEmComite           8415\n",
       "periodoBalanco                 4240\n",
       "ativoCirculante                4240\n",
       "passivoCirculante              4240\n",
       "totalAtivo                     4240\n",
       "totalPatrimonioLiquido         4240\n",
       "endividamento                  4240\n",
       "duplicatasAReceber             4240\n",
       "estoque                        4240\n",
       "faturamentoBruto                750\n",
       "margemBruta                     750\n",
       "periodoDemonstrativoEmMeses     750\n",
       "custos                          750\n",
       "anoFundacao                     745\n",
       "intervaloFundacao               745\n",
       "capitalSocial                   745\n",
       "restricoes                      745\n",
       "empresa_MeEppMei                745\n",
       "scorePontualidade                 0\n",
       "limiteEmpresaAnaliseCredito     745\n",
       "dataAprovadoNivelAnalista      1962\n",
       "cluster                           0\n",
       "dtype: int64"
      ]
     },
     "execution_count": 326,
     "metadata": {},
     "output_type": "execute_result"
    }
   ],
   "source": [
    "data.isnull().sum()"
   ]
  },
  {
   "attachments": {},
   "cell_type": "markdown",
   "metadata": {},
   "source": [
    "#### **Remove string and date columns**"
   ]
  },
  {
   "cell_type": "code",
   "execution_count": 327,
   "metadata": {},
   "outputs": [],
   "source": [
    "data.drop([\n",
    "  'numero_solicitacao',\n",
    "  'razaoSocial',\n",
    "  'nomeFantasia',\n",
    "  'cnpjSemTraco',\n",
    "  'dataAprovadoEmComite',\n",
    "  'dataAprovadoNivelAnalista',\n",
    "  'primeiraCompra',\n",
    "  'periodoBalanco'\n",
    "], axis=1, inplace=True)"
   ]
  },
  {
   "cell_type": "code",
   "execution_count": 328,
   "metadata": {},
   "outputs": [],
   "source": [
    "data['cluster'] = data['cluster'].astype(int)"
   ]
  },
  {
   "attachments": {},
   "cell_type": "markdown",
   "metadata": {},
   "source": [
    "#### **Remove features with low correlation**"
   ]
  },
  {
   "cell_type": "code",
   "execution_count": 329,
   "metadata": {},
   "outputs": [
    {
     "name": "stdout",
     "output_type": "stream",
     "text": [
      "valorAprovado                  1.000000\n",
      "titulosEmAberto                0.531340\n",
      "capitalSocial                  0.355262\n",
      "cluster                        0.241002\n",
      "limiteEmpresaAnaliseCredito    0.240776\n",
      "estoque                        0.205265\n",
      "custos                         0.199530\n",
      "faturamentoBruto               0.188339\n",
      "margemBruta                    0.173502\n",
      "endividamento                  0.141683\n",
      "totalPatrimonioLiquido         0.101533\n",
      "prazoMedioRecebimentoVendas    0.099644\n",
      "ativoCirculante                0.090800\n",
      "totalAtivo                     0.070653\n",
      "maiorAtraso                    0.067067\n",
      "diferencaPercentualRisco       0.060300\n",
      "passivoCirculante              0.056105\n",
      "duplicatasAReceber             0.049847\n",
      "valorSolicitado                0.048894\n",
      "dashboardCorrelacao            0.030369\n",
      "percentualProtestos           -0.008198\n",
      "anoFundacao                   -0.052694\n",
      "margemBrutaAcumulada          -0.059794\n",
      "percentualRisco               -0.060300\n",
      "scorePontualidade             -0.081615\n",
      "periodoDemonstrativoEmMeses   -0.182527\n",
      "Name: valorAprovado, dtype: float64\n"
     ]
    }
   ],
   "source": [
    "corr = data.corr()\n",
    "corr.sort_values([\"valorAprovado\"], ascending = False, inplace = True)\n",
    "print(corr.valorAprovado)\n"
   ]
  },
  {
   "cell_type": "code",
   "execution_count": 330,
   "metadata": {},
   "outputs": [],
   "source": [
    "for c in corr.columns:\n",
    "    if corr[c]['valorAprovado'] < 0.01 and corr[c]['valorAprovado'] > -0.01:\n",
    "        data.drop(c, axis=1, inplace=True)"
   ]
  },
  {
   "attachments": {},
   "cell_type": "markdown",
   "metadata": {},
   "source": [
    "#### **Fill NULL**"
   ]
  },
  {
   "cell_type": "code",
   "execution_count": 331,
   "metadata": {},
   "outputs": [],
   "source": [
    "data['empresa_MeEppMei'].fillna(False, inplace=True)\n",
    "data['intervaloFundacao'].fillna('De 0 a 5 anos', inplace=True)"
   ]
  },
  {
   "cell_type": "code",
   "execution_count": 332,
   "metadata": {},
   "outputs": [
    {
     "data": {
      "text/plain": [
       "float64    22\n",
       "object      4\n",
       "int64       3\n",
       "bool        1\n",
       "dtype: int64"
      ]
     },
     "execution_count": 332,
     "metadata": {},
     "output_type": "execute_result"
    }
   ],
   "source": [
    "data.dtypes.value_counts()"
   ]
  },
  {
   "attachments": {},
   "cell_type": "markdown",
   "metadata": {},
   "source": [
    "#### **Do one hot enconde in categorical features**"
   ]
  },
  {
   "cell_type": "code",
   "execution_count": 333,
   "metadata": {},
   "outputs": [
    {
     "data": {
      "text/plain": [
       "['status', 'definicaoRisco', 'intervaloFundacao', 'restricoes']"
      ]
     },
     "execution_count": 333,
     "metadata": {},
     "output_type": "execute_result"
    }
   ],
   "source": [
    "one_hot_encode_cols = data.dtypes[data.dtypes == object]\n",
    "one_hot_encode_cols = one_hot_encode_cols.index.tolist()\n",
    "one_hot_encode_cols"
   ]
  },
  {
   "cell_type": "code",
   "execution_count": 334,
   "metadata": {},
   "outputs": [],
   "source": [
    "for col in one_hot_encode_cols:\n",
    "    data[col] = pd.Categorical(data[col])\n",
    "\n",
    "data = pd.get_dummies(data, columns=one_hot_encode_cols, drop_first=True)"
   ]
  },
  {
   "cell_type": "code",
   "execution_count": 335,
   "metadata": {},
   "outputs": [],
   "source": [
    "data['valorAprovado'].fillna(0, inplace=True)"
   ]
  },
  {
   "cell_type": "code",
   "execution_count": 336,
   "metadata": {},
   "outputs": [],
   "source": [
    "data['empresa_MeEppMei'] = data['empresa_MeEppMei'].astype(int)"
   ]
  },
  {
   "cell_type": "code",
   "execution_count": 337,
   "metadata": {},
   "outputs": [
    {
     "name": "stdout",
     "output_type": "stream",
     "text": [
      "valorAprovado                          1.000000\n",
      "titulosEmAberto                        0.478855\n",
      "capitalSocial                          0.333247\n",
      "cluster                                0.248577\n",
      "limiteEmpresaAnaliseCredito            0.241102\n",
      "estoque                                0.204571\n",
      "custos                                 0.198245\n",
      "faturamentoBruto                       0.188017\n",
      "status_AprovadoComite                  0.179438\n",
      "margemBruta                            0.174168\n",
      "endividamento                          0.141631\n",
      "totalPatrimonioLiquido                 0.102880\n",
      "prazoMedioRecebimentoVendas            0.094967\n",
      "ativoCirculante                        0.091846\n",
      "definicaoRisco_De 11 a 30 % - Baixo    0.083983\n",
      "restricoes_True                        0.078025\n",
      "totalAtivo                             0.071677\n",
      "maiorAtraso                            0.057419\n",
      "passivoCirculante                      0.057298\n",
      "duplicatasAReceber                     0.050506\n",
      "intervaloFundacao_De 6 a 10 anos       0.042641\n",
      "valorSolicitado                        0.026780\n",
      "dashboardCorrelacao                    0.025901\n",
      "intervaloFundacao_De 11 a 16 anos      0.021406\n",
      "status_AprovadoAnalista                0.015435\n",
      "diferencaPercentualRisco               0.014361\n",
      "percentualRisco                       -0.014361\n",
      "status_ReprovadoComite                -0.015017\n",
      "definicaoRisco_De 51 a 80 % - Alto    -0.035270\n",
      "anoFundacao                           -0.045593\n",
      "margemBrutaAcumulada                  -0.046031\n",
      "definicaoRisco_De 31 a 50 % - Médio   -0.049796\n",
      "status_EmAnaliseDocumentacao          -0.057960\n",
      "scorePontualidade                     -0.064526\n",
      "status_DocumentacaoReprovada          -0.077507\n",
      "status_ReprovadoAnalista              -0.084288\n",
      "intervaloFundacao_De 0 a 5 anos       -0.116058\n",
      "empresa_MeEppMei                      -0.118071\n",
      "periodoDemonstrativoEmMeses           -0.168154\n",
      "Name: valorAprovado, dtype: float64\n"
     ]
    }
   ],
   "source": [
    "corr = data.corr()\n",
    "corr.sort_values([\"valorAprovado\"], ascending = False, inplace = True)\n",
    "print(corr.valorAprovado)"
   ]
  },
  {
   "cell_type": "code",
   "execution_count": 338,
   "metadata": {},
   "outputs": [
    {
     "data": {
      "text/plain": [
       "maiorAtraso                               0\n",
       "margemBrutaAcumulada                      0\n",
       "prazoMedioRecebimentoVendas               0\n",
       "titulosEmAberto                           0\n",
       "valorSolicitado                           0\n",
       "diferencaPercentualRisco                  0\n",
       "percentualRisco                           0\n",
       "dashboardCorrelacao                       0\n",
       "valorAprovado                             0\n",
       "ativoCirculante                        4240\n",
       "passivoCirculante                      4240\n",
       "totalAtivo                             4240\n",
       "totalPatrimonioLiquido                 4240\n",
       "endividamento                          4240\n",
       "duplicatasAReceber                     4240\n",
       "estoque                                4240\n",
       "faturamentoBruto                        750\n",
       "margemBruta                             750\n",
       "periodoDemonstrativoEmMeses             750\n",
       "custos                                  750\n",
       "anoFundacao                             745\n",
       "capitalSocial                           745\n",
       "empresa_MeEppMei                          0\n",
       "scorePontualidade                         0\n",
       "limiteEmpresaAnaliseCredito             745\n",
       "cluster                                   0\n",
       "status_AprovadoAnalista                   0\n",
       "status_AprovadoComite                     0\n",
       "status_DocumentacaoReprovada              0\n",
       "status_EmAnaliseDocumentacao              0\n",
       "status_ReprovadoAnalista                  0\n",
       "status_ReprovadoComite                    0\n",
       "definicaoRisco_De 11 a 30 % - Baixo       0\n",
       "definicaoRisco_De 31 a 50 % - Médio       0\n",
       "definicaoRisco_De 51 a 80 % - Alto        0\n",
       "intervaloFundacao_De 0 a 5 anos           0\n",
       "intervaloFundacao_De 11 a 16 anos         0\n",
       "intervaloFundacao_De 6 a 10 anos          0\n",
       "restricoes_True                           0\n",
       "dtype: int64"
      ]
     },
     "execution_count": 338,
     "metadata": {},
     "output_type": "execute_result"
    }
   ],
   "source": [
    "data.isnull().sum()"
   ]
  },
  {
   "attachments": {},
   "cell_type": "markdown",
   "metadata": {},
   "source": [
    "#### **Remove Outliers**"
   ]
  },
  {
   "cell_type": "code",
   "execution_count": 339,
   "metadata": {},
   "outputs": [
    {
     "data": {
      "text/plain": [
       "Index(['maiorAtraso', 'margemBrutaAcumulada', 'prazoMedioRecebimentoVendas',\n",
       "       'titulosEmAberto', 'valorSolicitado', 'diferencaPercentualRisco',\n",
       "       'percentualRisco', 'dashboardCorrelacao', 'valorAprovado',\n",
       "       'ativoCirculante', 'passivoCirculante', 'totalAtivo',\n",
       "       'totalPatrimonioLiquido', 'endividamento', 'duplicatasAReceber',\n",
       "       'estoque', 'faturamentoBruto', 'margemBruta',\n",
       "       'periodoDemonstrativoEmMeses', 'custos', 'anoFundacao', 'capitalSocial',\n",
       "       'empresa_MeEppMei', 'scorePontualidade', 'limiteEmpresaAnaliseCredito',\n",
       "       'cluster', 'status_AprovadoAnalista', 'status_AprovadoComite',\n",
       "       'status_DocumentacaoReprovada', 'status_EmAnaliseDocumentacao',\n",
       "       'status_ReprovadoAnalista', 'status_ReprovadoComite',\n",
       "       'definicaoRisco_De 11 a 30 % - Baixo',\n",
       "       'definicaoRisco_De 31 a 50 % - Médio',\n",
       "       'definicaoRisco_De 51 a 80 % - Alto', 'intervaloFundacao_De 0 a 5 anos',\n",
       "       'intervaloFundacao_De 11 a 16 anos', 'intervaloFundacao_De 6 a 10 anos',\n",
       "       'restricoes_True'],\n",
       "      dtype='object')"
      ]
     },
     "execution_count": 339,
     "metadata": {},
     "output_type": "execute_result"
    }
   ],
   "source": [
    "features = data.select_dtypes(exclude = [\"object\"]).columns\n",
    "features"
   ]
  },
  {
   "cell_type": "code",
   "execution_count": 340,
   "metadata": {},
   "outputs": [
    {
     "data": {
      "text/plain": [
       "float64    22\n",
       "uint8      13\n",
       "int64       4\n",
       "dtype: int64"
      ]
     },
     "execution_count": 340,
     "metadata": {},
     "output_type": "execute_result"
    }
   ],
   "source": [
    "data.dtypes.value_counts()"
   ]
  },
  {
   "cell_type": "code",
   "execution_count": 341,
   "metadata": {},
   "outputs": [],
   "source": [
    "def rm_outliers(data):\n",
    "    df1 = data.copy()\n",
    "    data = data[features]\n",
    "    q1 = data.quantile(0.25, numeric_only=True)\n",
    "    q3 = data.quantile(0.75, numeric_only=True)\n",
    "    \n",
    "    q2 = q3 - q1\n",
    "    lower_bound = q1 - (1.5 * q2)\n",
    "    upper_bound = q3 + (1.5 * q2)\n",
    "    \n",
    "    for col in data.columns:\n",
    "        for i in range(0, len(data[col])):\n",
    "            if data[col][i] < lower_bound[col]:\n",
    "                data[col][i] = lower_bound[col]\n",
    "                \n",
    "            if data[col][i] > upper_bound[col]:\n",
    "                data[col][i] = upper_bound[col]\n",
    "                \n",
    "    for col in data.columns:\n",
    "        df1[col] = data[col]\n",
    "        \n",
    "    return(df1)"
   ]
  },
  {
   "cell_type": "code",
   "execution_count": 342,
   "metadata": {},
   "outputs": [],
   "source": [
    "data = rm_outliers(data)"
   ]
  },
  {
   "attachments": {},
   "cell_type": "markdown",
   "metadata": {},
   "source": [
    "#### **Fill numeric NULL with median**"
   ]
  },
  {
   "cell_type": "code",
   "execution_count": 343,
   "metadata": {},
   "outputs": [],
   "source": [
    "def fill_median(d, col):\n",
    "  d.loc[d[col].isnull(), col] = d[col].median()\n",
    "\n",
    "for col in data.columns:\n",
    "  if data[col].isnull().sum() > 0:\n",
    "    fill_median(data, col)"
   ]
  },
  {
   "cell_type": "code",
   "execution_count": 344,
   "metadata": {},
   "outputs": [
    {
     "data": {
      "text/plain": [
       "maiorAtraso                            0\n",
       "margemBrutaAcumulada                   0\n",
       "prazoMedioRecebimentoVendas            0\n",
       "titulosEmAberto                        0\n",
       "valorSolicitado                        0\n",
       "diferencaPercentualRisco               0\n",
       "percentualRisco                        0\n",
       "dashboardCorrelacao                    0\n",
       "valorAprovado                          0\n",
       "ativoCirculante                        0\n",
       "passivoCirculante                      0\n",
       "totalAtivo                             0\n",
       "totalPatrimonioLiquido                 0\n",
       "endividamento                          0\n",
       "duplicatasAReceber                     0\n",
       "estoque                                0\n",
       "faturamentoBruto                       0\n",
       "margemBruta                            0\n",
       "periodoDemonstrativoEmMeses            0\n",
       "custos                                 0\n",
       "anoFundacao                            0\n",
       "capitalSocial                          0\n",
       "empresa_MeEppMei                       0\n",
       "scorePontualidade                      0\n",
       "limiteEmpresaAnaliseCredito            0\n",
       "cluster                                0\n",
       "status_AprovadoAnalista                0\n",
       "status_AprovadoComite                  0\n",
       "status_DocumentacaoReprovada           0\n",
       "status_EmAnaliseDocumentacao           0\n",
       "status_ReprovadoAnalista               0\n",
       "status_ReprovadoComite                 0\n",
       "definicaoRisco_De 11 a 30 % - Baixo    0\n",
       "definicaoRisco_De 31 a 50 % - Médio    0\n",
       "definicaoRisco_De 51 a 80 % - Alto     0\n",
       "intervaloFundacao_De 0 a 5 anos        0\n",
       "intervaloFundacao_De 11 a 16 anos      0\n",
       "intervaloFundacao_De 6 a 10 anos       0\n",
       "restricoes_True                        0\n",
       "dtype: int64"
      ]
     },
     "execution_count": 344,
     "metadata": {},
     "output_type": "execute_result"
    }
   ],
   "source": [
    "data.isnull().sum()"
   ]
  },
  {
   "attachments": {},
   "cell_type": "markdown",
   "metadata": {},
   "source": [
    "### **Prepare**"
   ]
  },
  {
   "cell_type": "code",
   "execution_count": 345,
   "metadata": {},
   "outputs": [],
   "source": [
    "def get_metric_model(y_pred, y_test):\n",
    "  return {\n",
    "    'MAE': metrics.mean_absolute_error(y_test, y_pred),\n",
    "    'MSE': metrics.mean_squared_error(y_test, y_pred),\n",
    "    'MAPE': metrics.mean_absolute_percentage_error(y_test, y_pred),\n",
    "    'RMSE': np.sqrt(metrics.mean_squared_error(y_test, y_pred)),\n",
    "    'R2': metrics.r2_score(y_test, y_pred)\n",
    "  }"
   ]
  },
  {
   "cell_type": "code",
   "execution_count": 346,
   "metadata": {},
   "outputs": [],
   "source": [
    "# do train test split\n",
    "X = data.drop('valorAprovado', axis=1)\n",
    "y = data['valorAprovado']\n",
    "\n",
    "X_train, X_test, y_train, y_test = train_test_split(X, y, test_size=0.3, random_state=42)"
   ]
  },
  {
   "attachments": {},
   "cell_type": "markdown",
   "metadata": {},
   "source": [
    "### **Train with different models**"
   ]
  },
  {
   "cell_type": "code",
   "execution_count": 347,
   "metadata": {},
   "outputs": [
    {
     "data": {
      "text/plain": [
       "({'MAE': 18750.768390596753,\n",
       "  'MSE': 850320240.3714607,\n",
       "  'MAPE': 2.3075771124437905e+19,\n",
       "  'RMSE': 29160.25103409538,\n",
       "  'R2': 0.7665391223285114},\n",
       " 0.7665391223285114,\n",
       " 0.7590833562670866,\n",
       " 'R² médio: 0.76 +/- 0.01')"
      ]
     },
     "execution_count": 347,
     "metadata": {},
     "output_type": "execute_result"
    }
   ],
   "source": [
    "lr = LinearRegression()\n",
    "lr.fit(X_train, y_train)\n",
    "y_pred = lr.predict(X_test)\n",
    "scores = cross_val_score(lr, X, y, cv=5)\n",
    "get_metric_model(y_pred, y_test), lr.score(X_test, y_test), scores.mean(), f'R² médio: {np.mean(scores):.2f} +/- {np.std(scores):.2f}'"
   ]
  },
  {
   "cell_type": "code",
   "execution_count": 348,
   "metadata": {},
   "outputs": [
    {
     "data": {
      "text/plain": [
       "({'MAE': 10518.439528610237,\n",
       "  'MSE': 557191368.5732087,\n",
       "  'MAPE': 1.2026745578501695e+19,\n",
       "  'RMSE': 23604.901367580605,\n",
       "  'R2': 0.8470195348034372},\n",
       " 0.8470195348034372,\n",
       " 0.8585546683554668,\n",
       " 'R² médio: 0.86 +/- 0.02')"
      ]
     },
     "execution_count": 348,
     "metadata": {},
     "output_type": "execute_result"
    }
   ],
   "source": [
    "rf = RandomForestRegressor(random_state=42)\n",
    "rf.fit(X_train, y_train)\n",
    "y_pred = rf.predict(X_test)\n",
    "scores = cross_val_score(rf, X, y, cv=5)\n",
    "get_metric_model(y_pred, y_test), rf.score(X_test, y_test), scores.mean(), f'R² médio: {np.mean(scores):.2f} +/- {np.std(scores):.2f}'"
   ]
  },
  {
   "cell_type": "code",
   "execution_count": 349,
   "metadata": {},
   "outputs": [
    {
     "data": {
      "text/plain": [
       "({'MAE': 12237.143759286775,\n",
       "  'MSE': 901654044.0114331,\n",
       "  'MAPE': 1.1947422452624824e+19,\n",
       "  'RMSE': 30027.554745790294,\n",
       "  'R2': 0.7524450971800939},\n",
       " 0.7524450971800939,\n",
       " 0.7603286463923464,\n",
       " 'R² médio: 0.76 +/- 0.04')"
      ]
     },
     "execution_count": 349,
     "metadata": {},
     "output_type": "execute_result"
    }
   ],
   "source": [
    "dt = DecisionTreeRegressor(random_state=42)\n",
    "dt.fit(X_train, y_train)\n",
    "y_pred = dt.predict(X_test)\n",
    "scores = cross_val_score(dt, X, y, cv=5)\n",
    "get_metric_model(y_pred, y_test), dt.score(X_test, y_test), scores.mean(), f'R² médio: {np.mean(scores):.2f} +/- {np.std(scores):.2f}'"
   ]
  },
  {
   "cell_type": "code",
   "execution_count": 350,
   "metadata": {},
   "outputs": [
    {
     "data": {
      "text/plain": [
       "({'MAE': 11605.034379409833,\n",
       "  'MSE': 503042309.7394327,\n",
       "  'MAPE': 1.2982012040565703e+19,\n",
       "  'RMSE': 22428.604721191034,\n",
       "  'R2': 0.8618865063280664},\n",
       " 0.8618865063280664,\n",
       " 0.8605386593099599,\n",
       " 'R² médio: 0.86 +/- 0.02')"
      ]
     },
     "execution_count": 350,
     "metadata": {},
     "output_type": "execute_result"
    }
   ],
   "source": [
    "gb = GradientBoostingRegressor(random_state=42)\n",
    "gb.fit(X_train, y_train)\n",
    "y_pred = gb.predict(X_test)\n",
    "scores = cross_val_score(gb, X, y, cv=5)\n",
    "get_metric_model(y_pred, y_test), gb.score(X_test, y_test), scores.mean(), f'R² médio: {np.mean(scores):.2f} +/- {np.std(scores):.2f}'"
   ]
  },
  {
   "cell_type": "code",
   "execution_count": 351,
   "metadata": {},
   "outputs": [
    {
     "data": {
      "text/plain": [
       "({'MAE': 10984.071199662973,\n",
       "  'MSE': 597018680.6991646,\n",
       "  'MAPE': 1.1847994737593332e+19,\n",
       "  'RMSE': 24433.96571781103,\n",
       "  'R2': 0.8360846907261514},\n",
       " 0.8360846907261514,\n",
       " 0.8411630574207246,\n",
       " 'R² médio: 0.84 +/- 0.03')"
      ]
     },
     "execution_count": 351,
     "metadata": {},
     "output_type": "execute_result"
    }
   ],
   "source": [
    "xgb = XGBRegressor(random_state=42)\n",
    "xgb.fit(X_train, y_train)\n",
    "y_pred = xgb.predict(X_test)\n",
    "scores = cross_val_score(xgb, X, y, cv=5)\n",
    "get_metric_model(y_pred, y_test), xgb.score(X_test, y_test), scores.mean(), f'R² médio: {np.mean(scores):.2f} +/- {np.std(scores):.2f}'"
   ]
  },
  {
   "cell_type": "code",
   "execution_count": 352,
   "metadata": {},
   "outputs": [
    {
     "data": {
      "text/plain": [
       "({'MAE': 10637.037319357169,\n",
       "  'MSE': 522005244.75510883,\n",
       "  'MAPE': 1.2108921829335284e+19,\n",
       "  'RMSE': 22847.434095650846,\n",
       "  'R2': 0.8566801108528121},\n",
       " 0.8566801108528121,\n",
       " 0.8636756020821259,\n",
       " 'R² médio: 0.86 +/- 0.02')"
      ]
     },
     "execution_count": 352,
     "metadata": {},
     "output_type": "execute_result"
    }
   ],
   "source": [
    "# bagging\n",
    "bag = BaggingRegressor(base_estimator=RandomForestRegressor(random_state=42), n_estimators=10, random_state=42)\n",
    "bag.fit(X_train, y_train)\n",
    "y_pred = bag.predict(X_test)\n",
    "scores = cross_val_score(bag, X, y, cv=5)\n",
    "get_metric_model(y_pred, y_test), bag.score(X_test, y_test), scores.mean(), f'R² médio: {np.mean(scores):.2f} +/- {np.std(scores):.2f}'"
   ]
  },
  {
   "cell_type": "code",
   "execution_count": 353,
   "metadata": {},
   "outputs": [
    {
     "data": {
      "text/plain": [
       "({'MAE': 11478.73592992019,\n",
       "  'MSE': 608592435.3984687,\n",
       "  'MAPE': 1.189176562868251e+19,\n",
       "  'RMSE': 24669.66630091434,\n",
       "  'R2': 0.8329070421159365},\n",
       " 0.8329070421159365,\n",
       " 0.8535926876448647,\n",
       " 'R² médio: 0.85 +/- 0.02')"
      ]
     },
     "execution_count": 353,
     "metadata": {},
     "output_type": "execute_result"
    }
   ],
   "source": [
    "# adaboost\n",
    "ada = AdaBoostRegressor(base_estimator=RandomForestRegressor(random_state=42), n_estimators=10, random_state=42)\n",
    "ada.fit(X_train, y_train)\n",
    "y_pred = ada.predict(X_test)\n",
    "scores = cross_val_score(ada, X, y, cv=5)\n",
    "get_metric_model(y_pred, y_test), ada.score(X_test, y_test), scores.mean(), f'R² médio: {np.mean(scores):.2f} +/- {np.std(scores):.2f}'"
   ]
  },
  {
   "cell_type": "code",
   "execution_count": 354,
   "metadata": {},
   "outputs": [
    {
     "data": {
      "text/plain": [
       "({'MAE': 11047.410250124321,\n",
       "  'MSE': 493119708.63200915,\n",
       "  'MAPE': 1.2713528390270489e+19,\n",
       "  'RMSE': 22206.298850371466,\n",
       "  'R2': 0.8646108201257848},\n",
       " 0.8646108201257848,\n",
       " 0.8645163596775927,\n",
       " 'R² médio: 0.86 +/- 0.02')"
      ]
     },
     "execution_count": 354,
     "metadata": {},
     "output_type": "execute_result"
    }
   ],
   "source": [
    "estimators = [\n",
    "    ('rf', RandomForestRegressor(random_state=42)),\n",
    "    ('dt', DecisionTreeRegressor(random_state=42)),\n",
    "    ('gb', GradientBoostingRegressor(random_state=42)),\n",
    "    ('xgb', XGBRegressor(random_state=42)), \n",
    "]\n",
    "\n",
    "stack = StackingRegressor(estimators=estimators, final_estimator=LinearRegression())\n",
    "stack.fit(X_train, y_train)\n",
    "y_pred = stack.predict(X_test)\n",
    "scores = cross_val_score(stack, X, y, cv=5)\n",
    "get_metric_model(y_pred, y_test), stack.score(X_test, y_test), scores.mean(), f'R² médio: {np.mean(scores):.2f} +/- {np.std(scores):.2f}'"
   ]
  },
  {
   "cell_type": "code",
   "execution_count": 355,
   "metadata": {},
   "outputs": [
    {
     "data": {
      "text/plain": [
       "({'MAE': 10636.146965324278,\n",
       "  'MSE': 550728096.5254462,\n",
       "  'MAPE': 1.2155500564590993e+19,\n",
       "  'RMSE': 23467.596735188847,\n",
       "  'R2': 0.8487940676126775},\n",
       " 0.8487940676126775,\n",
       " 0.8550321511531548,\n",
       " 'R² médio: 0.86 +/- 0.02')"
      ]
     },
     "execution_count": 355,
     "metadata": {},
     "output_type": "execute_result"
    }
   ],
   "source": [
    "# voting\n",
    "estimators = [\n",
    "    ('rf', RandomForestRegressor(random_state=42)),\n",
    "    ('dt', DecisionTreeRegressor(random_state=42)),\n",
    "    ('gb', GradientBoostingRegressor(random_state=42)),\n",
    "    ('xgb', XGBRegressor(random_state=42))\n",
    "]\n",
    "\n",
    "voting = VotingRegressor(estimators=estimators)\n",
    "voting.fit(X_train, y_train)\n",
    "y_pred = voting.predict(X_test)\n",
    "scores = cross_val_score(voting, X, y, cv=5)\n",
    "get_metric_model(y_pred, y_test), voting.score(X_test, y_test), scores.mean(), f'R² médio: {np.mean(scores):.2f} +/- {np.std(scores):.2f}'"
   ]
  },
  {
   "attachments": {},
   "cell_type": "markdown",
   "metadata": {},
   "source": [
    "### **Saving the best model**"
   ]
  },
  {
   "cell_type": "code",
   "execution_count": 356,
   "metadata": {},
   "outputs": [
    {
     "data": {
      "text/plain": [
       "'stack'"
      ]
     },
     "execution_count": 356,
     "metadata": {},
     "output_type": "execute_result"
    }
   ],
   "source": [
    "models = {\n",
    "    'lr': lr,\n",
    "    'rf': rf,\n",
    "    'dt': dt,\n",
    "    'gb': gb,\n",
    "    'xgb': xgb,\n",
    "    'bag': bag,\n",
    "    'ada': ada,\n",
    "    'stack': stack,\n",
    "    'voting': voting\n",
    "}\n",
    "\n",
    "best_model = max(models.items(), key=lambda x: x[1].score(X_test, y_test))[0]\n",
    "best_model"
   ]
  },
  {
   "cell_type": "code",
   "execution_count": 358,
   "metadata": {},
   "outputs": [],
   "source": [
    "pickle.dump(models[best_model], open('../models/model.sav', 'wb'))"
   ]
  },
  {
   "cell_type": "code",
   "execution_count": 363,
   "metadata": {},
   "outputs": [],
   "source": [
    "test = X_test.iloc[0].values.reshape(1, -1)"
   ]
  },
  {
   "cell_type": "code",
   "execution_count": 364,
   "metadata": {},
   "outputs": [
    {
     "data": {
      "text/plain": [
       "array([4163.98281985])"
      ]
     },
     "execution_count": 364,
     "metadata": {},
     "output_type": "execute_result"
    }
   ],
   "source": [
    "model = pickle.load(open('../models/model.sav', 'rb'))\n",
    "model.predict(test)"
   ]
  }
 ],
 "metadata": {
  "kernelspec": {
   "display_name": "bootcamp",
   "language": "python",
   "name": "python3"
  },
  "language_info": {
   "codemirror_mode": {
    "name": "ipython",
    "version": 3
   },
   "file_extension": ".py",
   "mimetype": "text/x-python",
   "name": "python",
   "nbconvert_exporter": "python",
   "pygments_lexer": "ipython3",
   "version": "3.9.16"
  },
  "orig_nbformat": 4
 },
 "nbformat": 4,
 "nbformat_minor": 2
}
